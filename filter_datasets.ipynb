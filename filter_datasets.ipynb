{
 "cells": [
  {
   "cell_type": "code",
   "execution_count": 4,
   "metadata": {},
   "outputs": [],
   "source": [
    "import pandas as pd\n",
    "import matplotlib.pyplot as plt\n",
    "import numpy as np\n",
    "\n",
    "pairwise = pd.read_csv(\"datasets/pairwise_variables.csv\")\n",
    "attributes = pd.read_csv(\"datasets/subreddit_attributes.csv\")"
   ]
  },
  {
   "cell_type": "markdown",
   "metadata": {},
   "source": [
    "# Subreddit Attribute Overview\n",
    "## 4,091 subreddits in the dataset\n",
    "1. Mean Comment Score is usually 1-9\n",
    "2. Mean Comment Length is about 20-380 characters.\n",
    "3. Mean Post Length is between 1 million and 14 million characters.\n",
    "4. Max Subscribers is between 30,000 and 160,000\n",
    "5. Distict Commenters is between 0 to 50,000\n",
    "6. Number of Interactions is about 5-14 (Comments/Post)\n",
    "\n",
    "\n",
    "\n",
    "\n",
    "# Pairwise Subreddits Overview\n",
    "## 47,186 subreddits in the dataset\n",
    "### Estimate & t-test is different for each pair \n",
    "### Author, term, & cross-posting is the same for pairs (r/dogs & r/cats vs r/cats & r/dogs)\n",
    "7. Subreddits usually have little competition or mutualism (using \"estimate\" p < 0.05)\n",
    "8. Subreddit t-test is confusing (using \"t-test\" p < 0.05)\n",
    "9. HIGH Author similarity: Most subreddits have 70-95% author similarity\n",
    "10. HIGH Term similarity: Most subreddits have 70-95% Term similarity\n",
    "11. Author vs. Term Similarity (Covariance) \n",
    "- Some reddits have no overlap of terms or authors\n",
    "- Some reddits have LOTS OF overlap of terms and authors\n",
    "- Some reddits have lots of the same authors but less similar terms\n",
    "- Some reddits have lots of the same terms but different authors\n",
    "\n"
   ]
  },
  {
   "cell_type": "markdown",
   "metadata": {},
   "source": [
    "## Z-Scores and Quartiles\n",
    "\n",
    "In a normal distribution:\n",
    "- within + or - 1 z-score is 68% of the data, or from 16%-84%\n",
    "- within + or - 2 z-scores is 95% of the data, or from 2.5%-97.5%\n",
    "- within + or - 3 z-scores is 99.7% of the data, or from 0.15%-99.85%\n",
    "\n",
    "In quartiles:\n",
    "- median (Q2/50th%): the middle value of the dataset.\n",
    "- 1st quartile (Q1/25th%): the middle number between the smallest number and the median.\n",
    "- 3rd quartile (Q3/75th%): the middle value between the median and the highest value of the dataset.\n",
    "- Interquartile range (IQR): 25th to the 75th percentile.\n",
    "- “maximum”: Q3 + 1.5*IQR\n",
    "- “minimum”: Q1 -1.5*IQR\n",
    "- whiskers: minimum and maximum\n",
    "- outliers: dots outside of the boxplot"
   ]
  },
  {
   "cell_type": "markdown",
   "metadata": {},
   "source": [
    "# Size Strategy\n",
    "Anything with a z-score over 3 or under -3 has the max or min, respectively, of a subreddit with the z-score of 3. this is because there is less than 0.3% of the data in this area, it is definitionally outliers, and will skew the size of the bubbles and make the graph less readable.\n",
    "\n",
    "def size:\n",
    "    if variable_scaled > 3:\n",
    "        variable_scaled = 3\n",
    "    if variable_scaled < -3:\n",
    "        variable_scaled = -3\n",
    "\n",
    "from -3 to 3 should be a scale of bubble size. Let's say subreddit size goes from 20px to 200px linearly. \n",
    "m(-3) + b = min\n",
    "m(3) + b = max\n",
    "\n",
    "b = 3m + min\n",
    "m = (max - (3m + min)) / 3\n",
    "\n",
    "variable_size = m(variable_scaled) + b\n",
    "\n",
    "\n",
    "area is gonna be linear from 1-7 units\n",
    "area = pi*r^2\n",
    "r = sqrt(area/pi)\n"
   ]
  },
  {
   "cell_type": "code",
   "execution_count": 11,
   "metadata": {},
   "outputs": [
    {
     "name": "stdout",
     "output_type": "stream",
     "text": [
      "0.56\n",
      "0.8\n",
      "0.98\n",
      "1.13\n",
      "1.26\n",
      "1.38\n",
      "1.49\n",
      "None\n",
      "1.13\n",
      "1.6\n",
      "1.95\n",
      "2.26\n",
      "2.52\n",
      "2.76\n",
      "2.99\n",
      "None\n"
     ]
    }
   ],
   "source": [
    "def radius(areas):\n",
    "    for area in areas:\n",
    "        rad = np.sqrt(area/np.pi)\n",
    "        print(np.round(rad, 2))\n",
    "areas =  np.array([1, 2, 3, 4, 5, 6, 7])\n",
    "areas1 = areas\n",
    "areas2 = areas * 2\n",
    "areas3 = areas * 3\n",
    "areas4 = areas * 4\n",
    "\n",
    "print(radius(areas))\n",
    "print(radius(areas4))\n",
    "\n",
    "\n",
    "# sigmoid function is interval between 0-1\n",
    "# use it to ensure everything falls in that interval\n",
    "# Kurtosis -- mean is expected value, variance is expected ...skew....kurtosis (more sensitive to outliers) \n",
    "# arctan\n",
    "# "
   ]
  },
  {
   "cell_type": "code",
   "execution_count": 14,
   "metadata": {},
   "outputs": [
    {
     "data": {
      "image/png": "[encoded data removed]",
      "text/plain": [
       "<Figure size 1080x360 with 2 Axes>"
      ]
     },
     "metadata": {
      "needs_background": "light"
     },
     "output_type": "display_data"
    }
   ],
   "source": [
    "plt.subplots(figsize=(15, 5))\n",
    "plt.subplot(1, 2, 1)\n",
    "mean_comment_score = attributes['mean_comment_score'].hist(bins=30)\n",
    "plt.ylabel('# Subreddits')\n",
    "plt.title('mean_comment_score (always positive)')\n",
    "plt.subplot(1, 2, 2)\n",
    "mean_comment_score_boxplot = attributes.boxplot('mean_comment_score')\n",
    "plt.ylabel('# Subreddits')\n",
    "plt.title('mean_comment_score (always positive)')\n",
    "plt.savefig(\"datavizzes/mean_comment_score.jpg\")"
   ]
  },
  {
   "cell_type": "code",
   "execution_count": 23,
   "metadata": {},
   "outputs": [
    {
     "name": "stdout",
     "output_type": "stream",
     "text": [
      "9.19021776510288\n",
      "0.8775751929731168\n",
      "0.8775751929731168\n"
     ]
    },
    {
     "data": {
      "text/plain": [
       "Text(0.5, 1.0, 'mean_comment_score (always positive)')"
      ]
     },
     "execution_count": 23,
     "metadata": {},
     "output_type": "execute_result"
    },
    {
     "data": {
      "image/png": "[encoded data removed]",
      "text/plain": [
       "<Figure size 432x288 with 1 Axes>"
      ]
     },
     "metadata": {
      "needs_background": "light"
     },
     "output_type": "display_data"
    }
   ],
   "source": [
    "Q3 = np.quantile(attributes['mean_comment_score'], 0.75)\n",
    "Q1 = np.quantile(attributes['mean_comment_score'], 0.25)\n",
    "IQR = Q3 - Q1\n",
    "max_q = min(Q3 + 1.5*IQR, attributes['mean_comment_score'].max())\n",
    "min_q = max(Q1 - 1.5*IQR, attributes['mean_comment_score'].min())\n",
    "\n",
    "print(max_q)\n",
    "print(min_q)\n",
    "\n",
    "msc = attributes['mean_comment_score']\n",
    "\n",
    "attributes['mean_comment_score_scaled'] = (attributes['mean_comment_score'] - attributes['mean_comment_score'].mean()) / attributes['mean_comment_score'].std()  \n",
    "\n",
    "msc_scaled = attributes['mean_comment_score_scaled'].hist(bins=30)\n",
    "plt.ylabel('# Subreddits')\n",
    "plt.title('mean_comment_score (always positive)')\n",
    "# msc_boxplot = attributes.boxplot('mean_comment_score')\n",
    "# plt.ylabel('# Subreddits')\n",
    "# plt.title('mean_comment_score (always positive)')"
   ]
  },
  {
   "cell_type": "markdown",
   "metadata": {},
   "source": [
    "mean_comment_score:\n",
    "    Q3 = np.quantile(data[col], 0.75)\n",
    "    Q1 = np.quantile(data[col], 0.25)\n",
    "    IQR = Q3 - Q1"
   ]
  },
  {
   "cell_type": "code",
   "execution_count": null,
   "metadata": {},
   "outputs": [],
   "source": []
  }
 ],
 "metadata": {
  "interpreter": {
   "hash": "0af35cfcaaf92e480e0d09b7f550fb252717892f58f6c7de9c7ac571f1cabc7d"
  },
  "kernelspec": {
   "display_name": "Python 3.8.8 ('base')",
   "language": "python",
   "name": "python3"
  },
  "language_info": {
   "codemirror_mode": {
    "name": "ipython",
    "version": 3
   },
   "file_extension": ".py",
   "mimetype": "text/x-python",
   "name": "python",
   "nbconvert_exporter": "python",
   "pygments_lexer": "ipython3",
   "version": "3.8.8"
  },
  "orig_nbformat": 4
 },
 "nbformat": 4,
 "nbformat_minor": 2
}
