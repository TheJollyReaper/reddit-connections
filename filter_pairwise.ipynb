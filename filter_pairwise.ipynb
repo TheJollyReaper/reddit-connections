{
 "cells": [
  {
   "cell_type": "markdown",
   "metadata": {},
   "source": [
    "## Estimate Hover Tag and Lines\n",
    "This code creates two csv files in the datasets folder\n",
    "1. \"estimates_full.csv\" has a column of the text of the hover tag in it for competition/mutualism\n",
    "2. \"estimates_lines.csv\" is the same but only includes subreddits where the estimate has a z-score above 2 or below -2. These are the only lines that are going to be shown when the user clicks \"competition/mutualism\" for lines."
   ]
  },
  {
   "cell_type": "code",
   "execution_count": 52,
   "metadata": {},
   "outputs": [],
   "source": [
    "import pandas as pd\n",
    "import matplotlib.pyplot as plt\n",
    "import numpy as np\n",
    "\n",
    "pairwise = pd.read_csv(\"datasets/pairwise_variables.csv\")"
   ]
  },
  {
   "cell_type": "code",
   "execution_count": 53,
   "metadata": {},
   "outputs": [
    {
     "name": "stderr",
     "output_type": "stream",
     "text": [
      "C:\\Users\\addie\\AppData\\Local\\Temp/ipykernel_23252/4178095863.py:6: SettingWithCopyWarning: \n",
      "A value is trying to be set on a copy of a slice from a DataFrame.\n",
      "Try using .loc[row_indexer,col_indexer] = value instead\n",
      "\n",
      "See the caveats in the documentation: https://pandas.pydata.org/pandas-docs/stable/user_guide/indexing.html#returning-a-view-versus-a-copy\n",
      "  estimates_full['new_estimate_scaled'] = (estimates_full['new_estimate'] - estimates_full['new_estimate'].mean()) / estimates_full['new_estimate'].std()\n",
      "C:\\Users\\addie\\AppData\\Local\\Temp/ipykernel_23252/4178095863.py:30: SettingWithCopyWarning: \n",
      "A value is trying to be set on a copy of a slice from a DataFrame.\n",
      "Try using .loc[row_indexer,col_indexer] = value instead\n",
      "\n",
      "See the caveats in the documentation: https://pandas.pydata.org/pandas-docs/stable/user_guide/indexing.html#returning-a-view-versus-a-copy\n",
      "  estimates_full['hover_tag'] = np.select(conditions, choices)\n"
     ]
    }
   ],
   "source": [
    "# remove estimates wih p-value over 0.05\n",
    "# create column of standardized values\n",
    "estimates_full = pairwise\n",
    "estimates_full['new_estimate'] = estimates_full.loc[estimates_full['Std. Error'] < 0.05, 'Estimate']\n",
    "estimates_full = estimates_full.loc[estimates_full['new_estimate'].notnull()]\n",
    "estimates_full['new_estimate_scaled'] = (estimates_full['new_estimate'] - estimates_full['new_estimate'].mean()) / estimates_full['new_estimate'].std()  \n",
    "\n",
    "# Define intervals based on z-score and label them in the column \"hover tag\"\n",
    "conditions = [\n",
    "    (estimates_full['new_estimate_scaled'] > 3),\n",
    "    (estimates_full['new_estimate_scaled'] <= 3) & (estimates_full['new_estimate_scaled'] > 2),\n",
    "    (estimates_full['new_estimate_scaled'] <= 2) & (estimates_full['new_estimate_scaled'] > 1),\n",
    "    (estimates_full['new_estimate_scaled'] <= 1) & (estimates_full['new_estimate_scaled'] > 0),\n",
    "    (estimates_full['new_estimate_scaled'] <= 0) & (estimates_full['new_estimate_scaled'] > -1),\n",
    "    (estimates_full['new_estimate_scaled'] <= -1) & (estimates_full['new_estimate_scaled'] > -2),\n",
    "    (estimates_full['new_estimate_scaled'] <= -2) & (estimates_full['new_estimate_scaled'] > -3),\n",
    "    (estimates_full['new_estimate_scaled'] <= -3)\n",
    "]\n",
    "\n",
    "choices = [\n",
    "    'most mutualistic',\n",
    "    'very mutualistic',\n",
    "    'somewhat mutualistic',\n",
    "    'a little mutualistic',\n",
    "    'a little competitive',\n",
    "    'somewhat competitive',\n",
    "    'very competitive',\n",
    "    'most competitive']\n",
    "\n",
    "estimates_full['hover_tag'] = np.select(conditions, choices)\n",
    "\n",
    "# Create a dataframe only of the most competitive and mutualistic rows\n",
    "estimates_lines = estimates_full[np.abs(estimates_full['new_estimate_scaled']) > 2]\n",
    "\n",
    "# export dataframes to csv\n",
    "estimates_full.to_csv(\"datasets/estimates_full.csv\")\n",
    "estimates_lines.to_csv(\"datasets/estimates_lines.csv\")"
   ]
  },
  {
   "cell_type": "markdown",
   "metadata": {},
   "source": [
    "## Cross-posting %\n",
    "This code creates two csv files in the datasets folder\n",
    "1. \"estimates_full.csv\" has a column of the text of the hover tag in it for competition/mutualism\n",
    "2. \"estimates_lines.csv\" is the same but only includes subreddits where the estimate has a z-score above 2 or below -2. These are the only lines that are going to be shown when the user clicks \"competition/mutualism\" for lines."
   ]
  },
  {
   "cell_type": "code",
   "execution_count": 66,
   "metadata": {},
   "outputs": [
    {
     "name": "stdout",
     "output_type": "stream",
     "text": [
      "1354\n"
     ]
    },
    {
     "data": {
      "image/png": "[encoded data removed]",
      "text/plain": [
       "<Figure size 1080x360 with 2 Axes>"
      ]
     },
     "metadata": {
      "needs_background": "light"
     },
     "output_type": "display_data"
    }
   ],
   "source": [
    "cp_full = pairwise[pairwise['cross_posts'] != 0]\n",
    "cp_lines = pairwise[pairwise['cross_posts'] > 100]\n",
    "\n",
    "print(len(cp_lines))\n",
    "\n",
    "plt.subplots(figsize=(15, 5))\n",
    "\n",
    "plt.subplot(1, 2, 1)\n",
    "term_plot = cp['cross_posts'].hist(bins=30)\n",
    "plt.xlabel('cross_posts')\n",
    "plt.ylabel('# Subreddits (ish)')\n",
    "plt.title('cross_posts')\n",
    "\n",
    "plt.subplot(1, 2, 2)\n",
    "term_boxplot = cp.boxplot('cross_posts')  \n",
    "plt.ylabel('cross_posts')\n",
    "plt.xlabel('# Subreddits (ish)')\n",
    "plt.ylim(0, 100)\n",
    "plt.title('cross_posts')\n",
    "plt.savefig(\"datavizzes/cross_posts.jpg\")\n",
    "\n",
    "\n",
    "\n",
    "cp.to_csv(\"datasets/cross_posting_lines.csv\")\n"
   ]
  }
 ],
 "metadata": {
  "interpreter": {
   "hash": "0af35cfcaaf92e480e0d09b7f550fb252717892f58f6c7de9c7ac571f1cabc7d"
  },
  "kernelspec": {
   "display_name": "Python 3.8.8 ('base')",
   "language": "python",
   "name": "python3"
  },
  "language_info": {
   "codemirror_mode": {
    "name": "ipython",
    "version": 3
   },
   "file_extension": ".py",
   "mimetype": "text/x-python",
   "name": "python",
   "nbconvert_exporter": "python",
   "pygments_lexer": "ipython3",
   "version": "3.8.8"
  },
  "orig_nbformat": 4
 },
 "nbformat": 4,
 "nbformat_minor": 2
}
